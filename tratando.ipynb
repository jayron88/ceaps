{
 "cells": [
  {
   "cell_type": "code",
   "execution_count": 1,
   "id": "a85fd206-f772-4909-aa2f-a93b0c134e82",
   "metadata": {},
   "outputs": [],
   "source": [
    "import pandas as pd\n",
    "import numpy as np"
   ]
  },
  {
   "cell_type": "code",
   "execution_count": 2,
   "id": "b34cfbe9-2e8f-43b6-aa5d-330c2cc9fc70",
   "metadata": {},
   "outputs": [],
   "source": [
    "df_2018 = pd.read_csv(\"{}\",encoding=\"ISO-8859-1\", sep = ';', skiprows=1)\n",
    "df_2019 = pd.read_csv(\"{}\",encoding=\"ISO-8859-1\", sep = ';', skiprows=1)\n",
    "df_2020 = pd.read_csv(\"{}\",encoding=\"ISO-8859-1\", sep = ';', skiprows=1)\n",
    "df_2021 = pd.read_csv(\"{}\",encoding=\"ISO-8859-1\", sep = ';', skiprows=1)\n",
    "df_2022 = pd.read_csv(\"{}\",encoding=\"ISO-8859-1\", sep = ';', skiprows=1)"
   ]
  },
  {
   "cell_type": "markdown",
   "id": "fbce8d35-b7ff-479e-9a89-84bcde6d4ffb",
   "metadata": {},
   "source": [
    "## Função de formatação"
   ]
  },
  {
   "cell_type": "code",
   "execution_count": 3,
   "id": "abc13fd7-2cbf-4ace-9999-a0dbfe5d3839",
   "metadata": {},
   "outputs": [],
   "source": [
    "def format_value(value):\n",
    "    return float(value.replace('.', '').replace(',', '.'))\n",
    "\n",
    "# Aplicando a função a coluna \"VALOR_REEMBOLSADO\" \n",
    "\n",
    "df_2018['VALOR_REEMBOLSADO'] = df_2018['VALOR_REEMBOLSADO'].apply(format_value)\n",
    "df_2019['VALOR_REEMBOLSADO'] = df_2019['VALOR_REEMBOLSADO'].apply(format_value)\n",
    "df_2020['VALOR_REEMBOLSADO'] = df_2020['VALOR_REEMBOLSADO'].apply(format_value)\n",
    "df_2021['VALOR_REEMBOLSADO'] = df_2021['VALOR_REEMBOLSADO'].apply(format_value)\n",
    "df_2022['VALOR_REEMBOLSADO'] = df_2022['VALOR_REEMBOLSADO'].apply(format_value)"
   ]
  },
  {
   "cell_type": "markdown",
   "id": "e38416ec-a504-49ed-8185-998f958e7bca",
   "metadata": {},
   "source": [
    "## Filtrando e salvando os dados"
   ]
  },
  {
   "cell_type": "code",
   "execution_count": 4,
   "id": "6e9bbe0b-e148-48cf-a4ec-642badf26bac",
   "metadata": {},
   "outputs": [],
   "source": [
    "def filtro(df):\n",
    "    filtro = df[\"DATA\"].str.match(r'\\d{2}\\/\\d{2}\\/2[0-9]{3}')\n",
    "    df_filtrado = df[~filtro]\n",
    "    df.drop(df[~filtro].index, inplace=True)"
   ]
  },
  {
   "cell_type": "code",
   "execution_count": 5,
   "id": "16c2fefe-bafb-4838-968f-22c0fe88720b",
   "metadata": {},
   "outputs": [],
   "source": [
    "filtro(df_2018)\n",
    "filtro(df_2019)\n",
    "filtro(df_2020)\n",
    "filtro(df_2021)\n",
    "filtro(df_2022)"
   ]
  },
  {
   "cell_type": "code",
   "execution_count": 6,
   "id": "cd5bc73c-da02-4f30-8b6c-c1f3d38f9503",
   "metadata": {},
   "outputs": [],
   "source": [
    "def toDatetime(df, ano):\n",
    "    df[\"DATA\"] = pd.to_datetime(df[\"DATA\"], format=\"%d/%m/%Y\")\n",
    "    df[df[\"DATA\"].isna()] # Não te nenhum dado vazio\n",
    "    df.drop(df[df[\"DATA\"].dt.year != ano].index, inplace=True) # \"dropando\" datas diferentes de 2018"
   ]
  },
  {
   "cell_type": "code",
   "execution_count": 7,
   "id": "8fb6c3f2-0b89-40c1-812f-46193a2e860a",
   "metadata": {},
   "outputs": [],
   "source": [
    "toDatetime(df_2018, 2018)\n",
    "toDatetime(df_2019, 2019)\n",
    "toDatetime(df_2020, 2020)\n",
    "toDatetime(df_2021, 2021)\n",
    "toDatetime(df_2022, 2022)"
   ]
  },
  {
   "cell_type": "code",
   "execution_count": 8,
   "id": "c0d07d09-da27-4720-8f14-85f57bc2ba9c",
   "metadata": {},
   "outputs": [],
   "source": [
    "def transformando_colunas(df):\n",
    "    dados = pd.DataFrame(df.groupby(df[\"DATA\"].dt.date)[\"VALOR_REEMBOLSADO\"].sum().reset_index())\n",
    "    return dados.rename(columns={'DATA': 'DS', 'VALOR_REEMBOLSADO': 'Y'})\n",
    "    "
   ]
  },
  {
   "cell_type": "code",
   "execution_count": 9,
   "id": "31602988-f05f-4fa7-a235-21a5144fc9cf",
   "metadata": {},
   "outputs": [],
   "source": [
    "dados_2018 = transformando_colunas(df_2018)\n",
    "dados_2019 = transformando_colunas(df_2019)\n",
    "dados_2020 = transformando_colunas(df_2020)\n",
    "dados_2021 = transformando_colunas(df_2021)\n",
    "dados_2022 = transformando_colunas(df_2022)"
   ]
  },
  {
   "cell_type": "code",
   "execution_count": 10,
   "id": "0d5067b6-80b2-4db1-ba5e-6c2517b949c0",
   "metadata": {},
   "outputs": [],
   "source": [
    "dados_2018.to_csv(\"{}\", index=False)\n",
    "dados_2019.to_csv(\"{}\", index=False)\n",
    "dados_2020.to_csv(\"{}\", index=False)\n",
    "dados_2021.to_csv(\"{}\", index=False)\n",
    "dados_2022.to_csv(\"{}\", index=False)"
   ]
  }
 ],
 "metadata": {
  "kernelspec": {
   "display_name": "Python 3 (ipykernel)",
   "language": "python",
   "name": "python3"
  },
  "language_info": {
   "codemirror_mode": {
    "name": "ipython",
    "version": 3
   },
   "file_extension": ".py",
   "mimetype": "text/x-python",
   "name": "python",
   "nbconvert_exporter": "python",
   "pygments_lexer": "ipython3",
   "version": "3.10.6"
  }
 },
 "nbformat": 4,
 "nbformat_minor": 5
}
