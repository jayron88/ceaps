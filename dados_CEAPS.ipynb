{
 "cells": [
  {
   "cell_type": "code",
   "execution_count": 105,
   "id": "b78eda0e-d6bf-4c40-8ec4-60a07ce2dda1",
   "metadata": {},
   "outputs": [],
   "source": [
    "import numpy as np\n",
    "import pandas as pd\n",
    "import matplotlib.pyplot as plt"
   ]
  },
  {
   "cell_type": "markdown",
   "id": "59d4b8fb-d590-4c28-bcbb-694fd6b3bf27",
   "metadata": {},
   "source": [
    "## Abrindo o CSV"
   ]
  },
  {
   "cell_type": "code",
   "execution_count": 106,
   "id": "747218d1-675d-4ef8-bbbf-17e25ef62585",
   "metadata": {},
   "outputs": [],
   "source": [
    "df = pd.read_csv(\"/home/jayron/Desktop/despesas_senado/despesa_ceaps_2022.csv\",encoding=\"ISO-8859-1\", sep = ';', skiprows=1)"
   ]
  },
  {
   "cell_type": "markdown",
   "id": "714b05f0-b9ea-40e4-a19b-6911dec62bcc",
   "metadata": {},
   "source": [
    "## Fazendo retirando virgulas do campo VALOR_REEMBOLSO e fazendo o parse para float"
   ]
  },
  {
   "cell_type": "code",
   "execution_count": 107,
   "id": "9f996f34-4f9e-4a1f-8031-5a1db26aa988",
   "metadata": {},
   "outputs": [],
   "source": [
    "def format_value(value):\n",
    "    return float(value.replace('.', '').replace(',', '.'))\n",
    "\n",
    "# Aplicar a função format_value à coluna 'VALOR_REEMBOLSADO'\n",
    "df['VALOR_REEMBOLSADO'] = df['VALOR_REEMBOLSADO'].apply(format_value)"
   ]
  },
  {
   "cell_type": "code",
   "execution_count": null,
   "id": "76f54f33-4355-40aa-b31d-a24862a76081",
   "metadata": {},
   "outputs": [
    {
     "data": {
      "text/plain": [
       "\"\\n# Definir o formato de localização para o Brasil\\nlocale.setlocale(locale.LC_ALL, 'pt_BR.UTF-8')\\n\\n# Função para formatar o valor\\ndef format_value(valor):\\n    return locale.currency(valor, grouping=True)\\n\\n# Aplicar a formatação apenas na coluna 'VALOR_REEMBOLSO'\\ndf['VALOR_REEMBOLSADO'] = df['VALOR_REEMBOLSADO'].apply(format_value)\\n\""
      ]
     },
     "execution_count": 4,
     "metadata": {},
     "output_type": "execute_result"
    }
   ],
   "source": [
    "# Aplica a moeda local, mas deixa inutilizavel para operações matematica\n",
    "\n",
    "\"\"\"\n",
    "# Definir o formato de localização para o Brasil\n",
    "locale.setlocale(locale.LC_ALL, 'pt_BR.UTF-8')\n",
    "\n",
    "# Função para formatar o valor\n",
    "def format_value(valor):\n",
    "    return locale.currency(valor, grouping=True)\n",
    "\n",
    "# Aplicar a formatação apenas na coluna 'VALOR_REEMBOLSO'\n",
    "df['VALOR_REEMBOLSADO'] = df['VALOR_REEMBOLSADO'].apply(format_value)\n",
    "\"\"\""
   ]
  },
  {
   "cell_type": "markdown",
   "id": "ad679072-e9b7-4b6a-a360-b7a6f42a82f9",
   "metadata": {},
   "source": [
    "## Convertendo a data"
   ]
  },
  {
   "cell_type": "code",
   "execution_count": 102,
   "id": "21960c27-274b-4701-a455-6fab7328414a",
   "metadata": {},
   "outputs": [],
   "source": [
    "df['DATA'] = pd.to_datetime(df['DATA'], format=\"%d/%m/%Y\")"
   ]
  },
  {
   "cell_type": "markdown",
   "id": "efd94732-e898-4797-9a80-67085a6ce040",
   "metadata": {},
   "source": [
    "### NOME DO SENADOR, DESPESA E MAIOR VALOR GASTO POR DESPESA"
   ]
  },
  {
   "cell_type": "code",
   "execution_count": 108,
   "id": "5ed3f747-0ca1-42cc-ab1c-5258f51f5569",
   "metadata": {},
   "outputs": [
    {
     "data": {
      "text/html": [
       "<div>\n",
       "<style scoped>\n",
       "    .dataframe tbody tr th:only-of-type {\n",
       "        vertical-align: middle;\n",
       "    }\n",
       "\n",
       "    .dataframe tbody tr th {\n",
       "        vertical-align: top;\n",
       "    }\n",
       "\n",
       "    .dataframe thead th {\n",
       "        text-align: right;\n",
       "    }\n",
       "</style>\n",
       "<table border=\"1\" class=\"dataframe\">\n",
       "  <thead>\n",
       "    <tr style=\"text-align: right;\">\n",
       "      <th></th>\n",
       "      <th>SENADOR</th>\n",
       "      <th>TIPO_DESPESA</th>\n",
       "      <th>VALOR_REEMBOLSADO</th>\n",
       "    </tr>\n",
       "  </thead>\n",
       "  <tbody>\n",
       "    <tr>\n",
       "      <th>0</th>\n",
       "      <td>CHIQUINHO FEITOSA</td>\n",
       "      <td>Aluguel de imóveis para escritório político, c...</td>\n",
       "      <td>15000.00</td>\n",
       "    </tr>\n",
       "    <tr>\n",
       "      <th>1</th>\n",
       "      <td>CID GOMES</td>\n",
       "      <td>Aquisição de material de consumo para uso no e...</td>\n",
       "      <td>10000.00</td>\n",
       "    </tr>\n",
       "    <tr>\n",
       "      <th>2</th>\n",
       "      <td>SÉRGIO PETECÃO</td>\n",
       "      <td>Contratação de consultorias, assessorias, pesq...</td>\n",
       "      <td>77012.00</td>\n",
       "    </tr>\n",
       "    <tr>\n",
       "      <th>3</th>\n",
       "      <td>STYVENSON VALENTIM</td>\n",
       "      <td>Divulgação da atividade parlamentar</td>\n",
       "      <td>72923.16</td>\n",
       "    </tr>\n",
       "    <tr>\n",
       "      <th>4</th>\n",
       "      <td>ELIANE NOGUEIRA</td>\n",
       "      <td>Locomoção, hospedagem, alimentação, combustíve...</td>\n",
       "      <td>20011.00</td>\n",
       "    </tr>\n",
       "    <tr>\n",
       "      <th>5</th>\n",
       "      <td>OMAR AZIZ</td>\n",
       "      <td>Passagens aéreas, aquáticas e terrestres nacio...</td>\n",
       "      <td>10871.78</td>\n",
       "    </tr>\n",
       "    <tr>\n",
       "      <th>6</th>\n",
       "      <td>RANDOLFE RODRIGUES</td>\n",
       "      <td>Serviços de Segurança Privada</td>\n",
       "      <td>1090.00</td>\n",
       "    </tr>\n",
       "  </tbody>\n",
       "</table>\n",
       "</div>"
      ],
      "text/plain": [
       "              SENADOR                                       TIPO_DESPESA  \\\n",
       "0   CHIQUINHO FEITOSA  Aluguel de imóveis para escritório político, c...   \n",
       "1           CID GOMES  Aquisição de material de consumo para uso no e...   \n",
       "2      SÉRGIO PETECÃO  Contratação de consultorias, assessorias, pesq...   \n",
       "3  STYVENSON VALENTIM                Divulgação da atividade parlamentar   \n",
       "4     ELIANE NOGUEIRA  Locomoção, hospedagem, alimentação, combustíve...   \n",
       "5           OMAR AZIZ  Passagens aéreas, aquáticas e terrestres nacio...   \n",
       "6  RANDOLFE RODRIGUES                      Serviços de Segurança Privada   \n",
       "\n",
       "   VALOR_REEMBOLSADO  \n",
       "0           15000.00  \n",
       "1           10000.00  \n",
       "2           77012.00  \n",
       "3           72923.16  \n",
       "4           20011.00  \n",
       "5           10871.78  \n",
       "6            1090.00  "
      ]
     },
     "execution_count": 108,
     "metadata": {},
     "output_type": "execute_result"
    }
   ],
   "source": [
    "maiores_gastos_por_despesa = df.groupby(\"TIPO_DESPESA\").apply(lambda x: x.loc[x[\"VALOR_REEMBOLSADO\"].idxmax()]).reset_index(drop=True)\n",
    "maiores_gastos_por_despesa[[\"SENADOR\", \"TIPO_DESPESA\", \"VALOR_REEMBOLSADO\"]]"
   ]
  },
  {
   "cell_type": "markdown",
   "id": "936bb56a-52a3-4488-85f7-6da9c44b6066",
   "metadata": {},
   "source": [
    "## Plot dos 5 maiores gastos únicos por senador"
   ]
  },
  {
   "cell_type": "code",
   "execution_count": 109,
   "id": "6fc2c30d-75b6-4190-9ceb-4f27fa506d07",
   "metadata": {},
   "outputs": [
    {
     "data": {
      "image/png": "[encoded data removed]",
      "text/plain": [
       "<Figure size 720x432 with 1 Axes>"
      ]
     },
     "metadata": {
      "needs_background": "light"
     },
     "output_type": "display_data"
    }
   ],
   "source": [
    "# Agrupar por senador e obter o valor máximo de reembolso\n",
    "max_reimbursement = df.groupby(['SENADOR'])[\"VALOR_REEMBOLSADO\"].max()\n",
    "\n",
    "# Ordenar em ordem decrescente e selecionar os 5 maiores\n",
    "top_5_senators = max_reimbursement.nlargest(5)\n",
    "\n",
    "# Criar um dataframe apenas com os dados dos 5 maiores senadores\n",
    "df_top_5 = pd.DataFrame({'SENADOR': top_5_senators.index, 'VALOR_REEMBOLSADO': top_5_senators.values})\n",
    "\n",
    "# Aumentar o tamanho da figura\n",
    "plt.figure(figsize=(10, 6))\n",
    "\n",
    "# Criar o gráfico de barras\n",
    "plt.bar(df_top_5['SENADOR'], df_top_5['VALOR_REEMBOLSADO'])\n",
    "\n",
    "# Definir os rótulos dos eixos\n",
    "plt.xlabel('Senador')\n",
    "plt.ylabel('Valor Reembolsado')\n",
    "\n",
    "# Título do gráfico\n",
    "plt.title('TOP 5 MAIOR GASTO ÚNICO POR SENADOR')\n",
    "\n",
    "# Exibir o gráfico\n",
    "plt.show()"
   ]
  },
  {
   "cell_type": "markdown",
   "id": "2125b9b8-71f0-47e6-a5af-6f4a7670e758",
   "metadata": {},
   "source": [
    "## TOP 5 MAIORES GASTOS ÚNICOS POR NOME DO SENADOR, TIPO DA DESPESA E O MAIOR VALOR GASTO"
   ]
  },
  {
   "cell_type": "code",
   "execution_count": 110,
   "id": "1ae39477-e533-4407-a08c-e4ec6d05e80c",
   "metadata": {},
   "outputs": [
    {
     "data": {
      "text/html": [
       "<div>\n",
       "<style scoped>\n",
       "    .dataframe tbody tr th:only-of-type {\n",
       "        vertical-align: middle;\n",
       "    }\n",
       "\n",
       "    .dataframe tbody tr th {\n",
       "        vertical-align: top;\n",
       "    }\n",
       "\n",
       "    .dataframe thead th {\n",
       "        text-align: right;\n",
       "    }\n",
       "</style>\n",
       "<table border=\"1\" class=\"dataframe\">\n",
       "  <thead>\n",
       "    <tr style=\"text-align: right;\">\n",
       "      <th></th>\n",
       "      <th>SENADOR</th>\n",
       "      <th>TIPO_DESPESA</th>\n",
       "      <th>VALOR_REEMBOLSADO</th>\n",
       "    </tr>\n",
       "  </thead>\n",
       "  <tbody>\n",
       "    <tr>\n",
       "      <th>0</th>\n",
       "      <td>SÉRGIO PETECÃO</td>\n",
       "      <td>Contratação de consultorias, assessorias, pesq...</td>\n",
       "      <td>77012.00</td>\n",
       "    </tr>\n",
       "    <tr>\n",
       "      <th>1</th>\n",
       "      <td>STYVENSON VALENTIM</td>\n",
       "      <td>Divulgação da atividade parlamentar</td>\n",
       "      <td>72923.16</td>\n",
       "    </tr>\n",
       "    <tr>\n",
       "      <th>2</th>\n",
       "      <td>MECIAS DE JESUS</td>\n",
       "      <td>Divulgação da atividade parlamentar</td>\n",
       "      <td>70000.00</td>\n",
       "    </tr>\n",
       "    <tr>\n",
       "      <th>3</th>\n",
       "      <td>TELMÁRIO MOTA</td>\n",
       "      <td>Divulgação da atividade parlamentar</td>\n",
       "      <td>70000.00</td>\n",
       "    </tr>\n",
       "    <tr>\n",
       "      <th>4</th>\n",
       "      <td>EDUARDO VELLOSO</td>\n",
       "      <td>Contratação de consultorias, assessorias, pesq...</td>\n",
       "      <td>60000.00</td>\n",
       "    </tr>\n",
       "    <tr>\n",
       "      <th>5</th>\n",
       "      <td>STYVENSON VALENTIM</td>\n",
       "      <td>Contratação de consultorias, assessorias, pesq...</td>\n",
       "      <td>60000.00</td>\n",
       "    </tr>\n",
       "  </tbody>\n",
       "</table>\n",
       "</div>"
      ],
      "text/plain": [
       "              SENADOR                                       TIPO_DESPESA  \\\n",
       "0      SÉRGIO PETECÃO  Contratação de consultorias, assessorias, pesq...   \n",
       "1  STYVENSON VALENTIM                Divulgação da atividade parlamentar   \n",
       "2     MECIAS DE JESUS                Divulgação da atividade parlamentar   \n",
       "3       TELMÁRIO MOTA                Divulgação da atividade parlamentar   \n",
       "4     EDUARDO VELLOSO  Contratação de consultorias, assessorias, pesq...   \n",
       "5  STYVENSON VALENTIM  Contratação de consultorias, assessorias, pesq...   \n",
       "\n",
       "   VALOR_REEMBOLSADO  \n",
       "0           77012.00  \n",
       "1           72923.16  \n",
       "2           70000.00  \n",
       "3           70000.00  \n",
       "4           60000.00  \n",
       "5           60000.00  "
      ]
     },
     "execution_count": 110,
     "metadata": {},
     "output_type": "execute_result"
    }
   ],
   "source": [
    "# Agrupar por \"SENADOR\" e \"TIPO_DESPESA\" e obter os maiores valores de \"VALOR_REEMBOLSADO\"\n",
    "grouped = df.groupby(['SENADOR', 'TIPO_DESPESA'])['VALOR_REEMBOLSADO'].max()\n",
    "\n",
    "# Obter os 5 maiores valores de \"VALOR_REEMBOLSADO\"\n",
    "top_5 = pd.DataFrame(grouped.nlargest(6))\n",
    "\n",
    "# Exibir o resultado\n",
    "dataframe = pd.DataFrame(top_5[\"VALOR_REEMBOLSADO\"]).reset_index()\n",
    "\n",
    "dataframe"
   ]
  }
 ],
 "metadata": {
  "kernelspec": {
   "display_name": "Python 3 (ipykernel)",
   "language": "python",
   "name": "python3"
  },
  "language_info": {
   "codemirror_mode": {
    "name": "ipython",
    "version": 3
   },
   "file_extension": ".py",
   "mimetype": "text/x-python",
   "name": "python",
   "nbconvert_exporter": "python",
   "pygments_lexer": "ipython3",
   "version": "3.10.6"
  }
 },
 "nbformat": 4,
 "nbformat_minor": 5
}
